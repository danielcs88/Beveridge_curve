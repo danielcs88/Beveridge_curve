{
 "cells": [
  {
   "cell_type": "markdown",
   "metadata": {},
   "source": [
    " # Beveridge Curve"
   ]
  },
  {
   "cell_type": "markdown",
   "metadata": {},
   "source": [
    " The Beveridge curve, or UV curve, is a graphical representation of the relationship between unemployment and the job vacancy rate, the number of unfilled jobs expressed as a proportion of the labor force."
   ]
  },
  {
   "cell_type": "code",
   "execution_count": 1,
   "metadata": {
    "execution": {
     "iopub.execute_input": "2023-04-18T04:08:24.987564Z",
     "iopub.status.busy": "2023-04-18T04:08:24.987293Z",
     "iopub.status.idle": "2023-04-18T04:08:25.325033Z",
     "shell.execute_reply": "2023-04-18T04:08:25.324709Z"
    }
   },
   "outputs": [],
   "source": [
    "import altair as alt\n",
    "import datapane as dp\n",
    "import pandas as pd\n",
    "import pandas_datareader as pdr"
   ]
  },
  {
   "cell_type": "code",
   "execution_count": 2,
   "metadata": {
    "execution": {
     "iopub.execute_input": "2023-04-18T04:08:25.326915Z",
     "iopub.status.busy": "2023-04-18T04:08:25.326741Z",
     "iopub.status.idle": "2023-04-18T04:08:26.239396Z",
     "shell.execute_reply": "2023-04-18T04:08:26.238731Z"
    }
   },
   "outputs": [],
   "source": [
    "df = pdr.get_data_fred([\"UNRATE\", \"JTSJOR\"], start=\"2000-01-01\")"
   ]
  },
  {
   "cell_type": "code",
   "execution_count": 3,
   "metadata": {
    "execution": {
     "iopub.execute_input": "2023-04-18T04:08:26.243430Z",
     "iopub.status.busy": "2023-04-18T04:08:26.243153Z",
     "iopub.status.idle": "2023-04-18T04:08:26.255751Z",
     "shell.execute_reply": "2023-04-18T04:08:26.255328Z"
    }
   },
   "outputs": [
    {
     "data": {
      "text/html": [
       "<div>\n",
       "<style scoped>\n",
       "    .dataframe tbody tr th:only-of-type {\n",
       "        vertical-align: middle;\n",
       "    }\n",
       "\n",
       "    .dataframe tbody tr th {\n",
       "        vertical-align: top;\n",
       "    }\n",
       "\n",
       "    .dataframe thead th {\n",
       "        text-align: right;\n",
       "    }\n",
       "</style>\n",
       "<table border=\"1\" class=\"dataframe\">\n",
       "  <thead>\n",
       "    <tr style=\"text-align: right;\">\n",
       "      <th></th>\n",
       "      <th>UNRATE</th>\n",
       "      <th>JTSJOR</th>\n",
       "    </tr>\n",
       "    <tr>\n",
       "      <th>DATE</th>\n",
       "      <th></th>\n",
       "      <th></th>\n",
       "    </tr>\n",
       "  </thead>\n",
       "  <tbody>\n",
       "    <tr>\n",
       "      <th>2000-01-01</th>\n",
       "      <td>4.0</td>\n",
       "      <td>NaN</td>\n",
       "    </tr>\n",
       "    <tr>\n",
       "      <th>2000-02-01</th>\n",
       "      <td>4.1</td>\n",
       "      <td>NaN</td>\n",
       "    </tr>\n",
       "    <tr>\n",
       "      <th>2000-03-01</th>\n",
       "      <td>4.0</td>\n",
       "      <td>NaN</td>\n",
       "    </tr>\n",
       "    <tr>\n",
       "      <th>2000-04-01</th>\n",
       "      <td>3.8</td>\n",
       "      <td>NaN</td>\n",
       "    </tr>\n",
       "    <tr>\n",
       "      <th>2000-05-01</th>\n",
       "      <td>4.0</td>\n",
       "      <td>NaN</td>\n",
       "    </tr>\n",
       "    <tr>\n",
       "      <th>...</th>\n",
       "      <td>...</td>\n",
       "      <td>...</td>\n",
       "    </tr>\n",
       "    <tr>\n",
       "      <th>2022-11-01</th>\n",
       "      <td>3.6</td>\n",
       "      <td>6.5</td>\n",
       "    </tr>\n",
       "    <tr>\n",
       "      <th>2022-12-01</th>\n",
       "      <td>3.5</td>\n",
       "      <td>6.8</td>\n",
       "    </tr>\n",
       "    <tr>\n",
       "      <th>2023-01-01</th>\n",
       "      <td>3.4</td>\n",
       "      <td>6.4</td>\n",
       "    </tr>\n",
       "    <tr>\n",
       "      <th>2023-02-01</th>\n",
       "      <td>3.6</td>\n",
       "      <td>6.0</td>\n",
       "    </tr>\n",
       "    <tr>\n",
       "      <th>2023-03-01</th>\n",
       "      <td>3.5</td>\n",
       "      <td>NaN</td>\n",
       "    </tr>\n",
       "  </tbody>\n",
       "</table>\n",
       "<p>279 rows × 2 columns</p>\n",
       "</div>"
      ],
      "text/plain": [
       "            UNRATE  JTSJOR\n",
       "DATE                      \n",
       "2000-01-01     4.0     NaN\n",
       "2000-02-01     4.1     NaN\n",
       "2000-03-01     4.0     NaN\n",
       "2000-04-01     3.8     NaN\n",
       "2000-05-01     4.0     NaN\n",
       "...            ...     ...\n",
       "2022-11-01     3.6     6.5\n",
       "2022-12-01     3.5     6.8\n",
       "2023-01-01     3.4     6.4\n",
       "2023-02-01     3.6     6.0\n",
       "2023-03-01     3.5     NaN\n",
       "\n",
       "[279 rows x 2 columns]"
      ]
     },
     "execution_count": 3,
     "metadata": {},
     "output_type": "execute_result"
    }
   ],
   "source": [
    "df"
   ]
  },
  {
   "cell_type": "code",
   "execution_count": 4,
   "metadata": {
    "execution": {
     "iopub.execute_input": "2023-04-18T04:08:26.283794Z",
     "iopub.status.busy": "2023-04-18T04:08:26.283650Z",
     "iopub.status.idle": "2023-04-18T04:08:26.286171Z",
     "shell.execute_reply": "2023-04-18T04:08:26.285864Z"
    }
   },
   "outputs": [],
   "source": [
    "def beveridge_factor(DF: pd.DataFrame) -> pd.DataFrame:\n",
    "    return (\n",
    "        DF.rename(\n",
    "            columns={\"UNRATE\": \"Unemployment Rate\", \"JTSJOR\": \"Job Openings Rate\"}\n",
    "        )\n",
    "        .rename_axis(index={\"DATE\": \"Date\"})\n",
    "        .assign(\n",
    "            **{\n",
    "                \"Beveridge Factor\": lambda d: d[\"Job Openings Rate\"]\n",
    "                / d[\"Unemployment Rate\"]\n",
    "            }\n",
    "        )\n",
    "    )"
   ]
  },
  {
   "cell_type": "code",
   "execution_count": 5,
   "metadata": {
    "execution": {
     "iopub.execute_input": "2023-04-18T04:08:26.287779Z",
     "iopub.status.busy": "2023-04-18T04:08:26.287665Z",
     "iopub.status.idle": "2023-04-18T04:08:26.291528Z",
     "shell.execute_reply": "2023-04-18T04:08:26.291207Z"
    }
   },
   "outputs": [],
   "source": [
    "bv = df.pipe(beveridge_factor)"
   ]
  },
  {
   "cell_type": "code",
   "execution_count": 6,
   "metadata": {
    "execution": {
     "iopub.execute_input": "2023-04-18T04:08:26.293022Z",
     "iopub.status.busy": "2023-04-18T04:08:26.292935Z",
     "iopub.status.idle": "2023-04-18T04:08:26.357651Z",
     "shell.execute_reply": "2023-04-18T04:08:26.357369Z"
    }
   },
   "outputs": [
    {
     "data": {
      "text/html": [
       "\n",
       "<div id=\"altair-viz-6bf21ebd93974a7abf5a30fa9f987288\"></div>\n",
       "<script type=\"text/javascript\">\n",
       "  var VEGA_DEBUG = (typeof VEGA_DEBUG == \"undefined\") ? {} : VEGA_DEBUG;\n",
       "  (function(spec, embedOpt){\n",
       "    let outputDiv = document.currentScript.previousElementSibling;\n",
       "    if (outputDiv.id !== \"altair-viz-6bf21ebd93974a7abf5a30fa9f987288\") {\n",
       "      outputDiv = document.getElementById(\"altair-viz-6bf21ebd93974a7abf5a30fa9f987288\");\n",
       "    }\n",
       "    const paths = {\n",
       "      \"vega\": \"https://cdn.jsdelivr.net/npm//vega@5?noext\",\n",
       "      \"vega-lib\": \"https://cdn.jsdelivr.net/npm//vega-lib?noext\",\n",
       "      \"vega-lite\": \"https://cdn.jsdelivr.net/npm//vega-lite@4.17.0?noext\",\n",
       "      \"vega-embed\": \"https://cdn.jsdelivr.net/npm//vega-embed@6?noext\",\n",
       "    };\n",
       "\n",
       "    function maybeLoadScript(lib, version) {\n",
       "      var key = `${lib.replace(\"-\", \"\")}_version`;\n",
       "      return (VEGA_DEBUG[key] == version) ?\n",
       "        Promise.resolve(paths[lib]) :\n",
       "        new Promise(function(resolve, reject) {\n",
       "          var s = document.createElement('script');\n",
       "          document.getElementsByTagName(\"head\")[0].appendChild(s);\n",
       "          s.async = true;\n",
       "          s.onload = () => {\n",
       "            VEGA_DEBUG[key] = version;\n",
       "            return resolve(paths[lib]);\n",
       "          };\n",
       "          s.onerror = () => reject(`Error loading script: ${paths[lib]}`);\n",
       "          s.src = paths[lib];\n",
       "        });\n",
       "    }\n",
       "\n",
       "    function showError(err) {\n",
       "      outputDiv.innerHTML = `<div class=\"error\" style=\"color:red;\">${err}</div>`;\n",
       "      throw err;\n",
       "    }\n",
       "\n",
       "    function displayChart(vegaEmbed) {\n",
       "      vegaEmbed(outputDiv, spec, embedOpt)\n",
       "        .catch(err => showError(`Javascript Error: ${err.message}<br>This usually means there's a typo in your chart specification. See the javascript console for the full traceback.`));\n",
       "    }\n",
       "\n",
       "    if(typeof define === \"function\" && define.amd) {\n",
       "      requirejs.config({paths});\n",
       "      require([\"vega-embed\"], displayChart, err => showError(`Error loading script: ${err.message}`));\n",
       "    } else {\n",
       "      maybeLoadScript(\"vega\", \"5\")\n",
       "        .then(() => maybeLoadScript(\"vega-lite\", \"4.17.0\"))\n",
       "        .then(() => maybeLoadScript(\"vega-embed\", \"6\"))\n",
       "        .catch(showError)\n",
       "        .then(() => displayChart(vegaEmbed));\n",
       "    }\n",
       "  })({\"config\": {\"view\": {\"continuousWidth\": 400, \"continuousHeight\": 300}}, \"vconcat\": [{\"data\": {\"name\": \"data-0373d90b72c4e240fcad3c128a4effc5\"}, \"mark\": {\"type\": \"point\", \"size\": 100}, \"encoding\": {\"color\": {\"field\": \"Job Openings Rate\", \"type\": \"quantitative\"}, \"opacity\": {\"condition\": {\"value\": 0.7, \"selection\": \"selector001\"}, \"value\": 0.1}, \"tooltip\": [{\"field\": \"Date\", \"type\": \"temporal\"}, {\"field\": \"Unemployment Rate\", \"type\": \"quantitative\"}, {\"field\": \"Job Openings Rate\", \"type\": \"quantitative\"}], \"x\": {\"field\": \"Unemployment Rate\", \"type\": \"quantitative\"}, \"y\": {\"field\": \"Job Openings Rate\", \"type\": \"quantitative\"}}, \"height\": 400, \"selection\": {\"selector002\": {\"type\": \"interval\", \"bind\": \"scales\", \"encodings\": [\"x\", \"y\"]}}, \"title\": \"The Beveridge Curve (job openings rate vs. unemployment rate), seasonally adjusted\", \"width\": 800}, {\"data\": {\"name\": \"data-0373d90b72c4e240fcad3c128a4effc5\"}, \"mark\": \"bar\", \"encoding\": {\"x\": {\"field\": \"Date\", \"timeUnit\": \"year\", \"type\": \"temporal\"}, \"y\": {\"aggregate\": \"mean\", \"field\": \"Beveridge Factor\", \"type\": \"quantitative\"}}, \"height\": 50, \"selection\": {\"selector001\": {\"type\": \"interval\", \"encodings\": [\"x\"]}}, \"width\": 800}], \"$schema\": \"https://vega.github.io/schema/vega-lite/v4.17.0.json\", \"datasets\": {\"data-0373d90b72c4e240fcad3c128a4effc5\": [{\"Date\": \"2000-01-01T00:00:00\", \"Unemployment Rate\": 4.0, \"Job Openings Rate\": null, \"Beveridge Factor\": null}, {\"Date\": \"2000-02-01T00:00:00\", \"Unemployment Rate\": 4.1, \"Job Openings Rate\": null, \"Beveridge Factor\": null}, {\"Date\": \"2000-03-01T00:00:00\", \"Unemployment Rate\": 4.0, \"Job Openings Rate\": null, \"Beveridge Factor\": null}, {\"Date\": \"2000-04-01T00:00:00\", \"Unemployment Rate\": 3.8, \"Job Openings Rate\": null, \"Beveridge Factor\": null}, {\"Date\": \"2000-05-01T00:00:00\", \"Unemployment Rate\": 4.0, \"Job Openings Rate\": null, \"Beveridge Factor\": null}, {\"Date\": \"2000-06-01T00:00:00\", \"Unemployment Rate\": 4.0, \"Job Openings Rate\": null, \"Beveridge Factor\": null}, {\"Date\": \"2000-07-01T00:00:00\", \"Unemployment Rate\": 4.0, \"Job Openings Rate\": null, \"Beveridge Factor\": null}, {\"Date\": \"2000-08-01T00:00:00\", \"Unemployment Rate\": 4.1, \"Job Openings Rate\": null, \"Beveridge Factor\": null}, {\"Date\": \"2000-09-01T00:00:00\", \"Unemployment Rate\": 3.9, \"Job Openings Rate\": null, \"Beveridge Factor\": null}, {\"Date\": \"2000-10-01T00:00:00\", \"Unemployment Rate\": 3.9, \"Job Openings Rate\": null, \"Beveridge Factor\": null}, {\"Date\": \"2000-11-01T00:00:00\", \"Unemployment Rate\": 3.9, \"Job Openings Rate\": null, \"Beveridge Factor\": null}, {\"Date\": \"2000-12-01T00:00:00\", \"Unemployment Rate\": 3.9, \"Job Openings Rate\": 3.7, \"Beveridge Factor\": 0.9487179487179488}, {\"Date\": \"2001-01-01T00:00:00\", \"Unemployment Rate\": 4.2, \"Job Openings Rate\": 3.8, \"Beveridge Factor\": 0.9047619047619047}, {\"Date\": \"2001-02-01T00:00:00\", \"Unemployment Rate\": 4.2, \"Job Openings Rate\": 3.7, \"Beveridge Factor\": 0.8809523809523809}, {\"Date\": \"2001-03-01T00:00:00\", \"Unemployment Rate\": 4.3, \"Job Openings Rate\": 3.5, \"Beveridge Factor\": 0.813953488372093}, {\"Date\": \"2001-04-01T00:00:00\", \"Unemployment Rate\": 4.4, \"Job Openings Rate\": 3.4, \"Beveridge Factor\": 0.7727272727272726}, {\"Date\": \"2001-05-01T00:00:00\", \"Unemployment Rate\": 4.3, \"Job Openings Rate\": 3.2, \"Beveridge Factor\": 0.744186046511628}, {\"Date\": \"2001-06-01T00:00:00\", \"Unemployment Rate\": 4.5, \"Job Openings Rate\": 3.2, \"Beveridge Factor\": 0.7111111111111111}, {\"Date\": \"2001-07-01T00:00:00\", \"Unemployment Rate\": 4.6, \"Job Openings Rate\": 3.3, \"Beveridge Factor\": 0.717391304347826}, {\"Date\": \"2001-08-01T00:00:00\", \"Unemployment Rate\": 4.9, \"Job Openings Rate\": 3.0, \"Beveridge Factor\": 0.6122448979591836}, {\"Date\": \"2001-09-01T00:00:00\", \"Unemployment Rate\": 5.0, \"Job Openings Rate\": 3.0, \"Beveridge Factor\": 0.6}, {\"Date\": \"2001-10-01T00:00:00\", \"Unemployment Rate\": 5.3, \"Job Openings Rate\": 2.7, \"Beveridge Factor\": 0.5094339622641509}, {\"Date\": \"2001-11-01T00:00:00\", \"Unemployment Rate\": 5.5, \"Job Openings Rate\": 2.8, \"Beveridge Factor\": 0.509090909090909}, {\"Date\": \"2001-12-01T00:00:00\", \"Unemployment Rate\": 5.7, \"Job Openings Rate\": 2.7, \"Beveridge Factor\": 0.4736842105263158}, {\"Date\": \"2002-01-01T00:00:00\", \"Unemployment Rate\": 5.7, \"Job Openings Rate\": 2.7, \"Beveridge Factor\": 0.4736842105263158}, {\"Date\": \"2002-02-01T00:00:00\", \"Unemployment Rate\": 5.7, \"Job Openings Rate\": 2.6, \"Beveridge Factor\": 0.45614035087719296}, {\"Date\": \"2002-03-01T00:00:00\", \"Unemployment Rate\": 5.7, \"Job Openings Rate\": 2.7, \"Beveridge Factor\": 0.4736842105263158}, {\"Date\": \"2002-04-01T00:00:00\", \"Unemployment Rate\": 5.9, \"Job Openings Rate\": 2.6, \"Beveridge Factor\": 0.4406779661016949}, {\"Date\": \"2002-05-01T00:00:00\", \"Unemployment Rate\": 5.8, \"Job Openings Rate\": 2.6, \"Beveridge Factor\": 0.4482758620689655}, {\"Date\": \"2002-06-01T00:00:00\", \"Unemployment Rate\": 5.8, \"Job Openings Rate\": 2.5, \"Beveridge Factor\": 0.4310344827586207}, {\"Date\": \"2002-07-01T00:00:00\", \"Unemployment Rate\": 5.8, \"Job Openings Rate\": 2.5, \"Beveridge Factor\": 0.4310344827586207}, {\"Date\": \"2002-08-01T00:00:00\", \"Unemployment Rate\": 5.7, \"Job Openings Rate\": 2.6, \"Beveridge Factor\": 0.45614035087719296}, {\"Date\": \"2002-09-01T00:00:00\", \"Unemployment Rate\": 5.7, \"Job Openings Rate\": 2.5, \"Beveridge Factor\": 0.43859649122807015}, {\"Date\": \"2002-10-01T00:00:00\", \"Unemployment Rate\": 5.7, \"Job Openings Rate\": 2.6, \"Beveridge Factor\": 0.45614035087719296}, {\"Date\": \"2002-11-01T00:00:00\", \"Unemployment Rate\": 5.9, \"Job Openings Rate\": 2.6, \"Beveridge Factor\": 0.4406779661016949}, {\"Date\": \"2002-12-01T00:00:00\", \"Unemployment Rate\": 6.0, \"Job Openings Rate\": 2.4, \"Beveridge Factor\": 0.39999999999999997}, {\"Date\": \"2003-01-01T00:00:00\", \"Unemployment Rate\": 5.8, \"Job Openings Rate\": 2.6, \"Beveridge Factor\": 0.4482758620689655}, {\"Date\": \"2003-02-01T00:00:00\", \"Unemployment Rate\": 5.9, \"Job Openings Rate\": 2.4, \"Beveridge Factor\": 0.4067796610169491}, {\"Date\": \"2003-03-01T00:00:00\", \"Unemployment Rate\": 5.9, \"Job Openings Rate\": 2.3, \"Beveridge Factor\": 0.38983050847457623}, {\"Date\": \"2003-04-01T00:00:00\", \"Unemployment Rate\": 6.0, \"Job Openings Rate\": 2.3, \"Beveridge Factor\": 0.3833333333333333}, {\"Date\": \"2003-05-01T00:00:00\", \"Unemployment Rate\": 6.1, \"Job Openings Rate\": 2.5, \"Beveridge Factor\": 0.4098360655737705}, {\"Date\": \"2003-06-01T00:00:00\", \"Unemployment Rate\": 6.3, \"Job Openings Rate\": 2.5, \"Beveridge Factor\": 0.39682539682539686}, {\"Date\": \"2003-07-01T00:00:00\", \"Unemployment Rate\": 6.2, \"Job Openings Rate\": 2.2, \"Beveridge Factor\": 0.3548387096774194}, {\"Date\": \"2003-08-01T00:00:00\", \"Unemployment Rate\": 6.1, \"Job Openings Rate\": 2.4, \"Beveridge Factor\": 0.39344262295081966}, {\"Date\": \"2003-09-01T00:00:00\", \"Unemployment Rate\": 6.1, \"Job Openings Rate\": 2.3, \"Beveridge Factor\": 0.3770491803278688}, {\"Date\": \"2003-10-01T00:00:00\", \"Unemployment Rate\": 6.0, \"Job Openings Rate\": 2.5, \"Beveridge Factor\": 0.4166666666666667}, {\"Date\": \"2003-11-01T00:00:00\", \"Unemployment Rate\": 5.8, \"Job Openings Rate\": 2.5, \"Beveridge Factor\": 0.4310344827586207}, {\"Date\": \"2003-12-01T00:00:00\", \"Unemployment Rate\": 5.7, \"Job Openings Rate\": 2.5, \"Beveridge Factor\": 0.43859649122807015}, {\"Date\": \"2004-01-01T00:00:00\", \"Unemployment Rate\": 5.7, \"Job Openings Rate\": 2.6, \"Beveridge Factor\": 0.45614035087719296}, {\"Date\": \"2004-02-01T00:00:00\", \"Unemployment Rate\": 5.6, \"Job Openings Rate\": 2.6, \"Beveridge Factor\": 0.46428571428571436}, {\"Date\": \"2004-03-01T00:00:00\", \"Unemployment Rate\": 5.8, \"Job Openings Rate\": 2.6, \"Beveridge Factor\": 0.4482758620689655}, {\"Date\": \"2004-04-01T00:00:00\", \"Unemployment Rate\": 5.6, \"Job Openings Rate\": 2.6, \"Beveridge Factor\": 0.46428571428571436}, {\"Date\": \"2004-05-01T00:00:00\", \"Unemployment Rate\": 5.6, \"Job Openings Rate\": 2.7, \"Beveridge Factor\": 0.4821428571428572}, {\"Date\": \"2004-06-01T00:00:00\", \"Unemployment Rate\": 5.6, \"Job Openings Rate\": 2.5, \"Beveridge Factor\": 0.44642857142857145}, {\"Date\": \"2004-07-01T00:00:00\", \"Unemployment Rate\": 5.5, \"Job Openings Rate\": 2.8, \"Beveridge Factor\": 0.509090909090909}, {\"Date\": \"2004-08-01T00:00:00\", \"Unemployment Rate\": 5.4, \"Job Openings Rate\": 2.6, \"Beveridge Factor\": 0.48148148148148145}, {\"Date\": \"2004-09-01T00:00:00\", \"Unemployment Rate\": 5.4, \"Job Openings Rate\": 2.8, \"Beveridge Factor\": 0.5185185185185185}, {\"Date\": \"2004-10-01T00:00:00\", \"Unemployment Rate\": 5.5, \"Job Openings Rate\": 2.9, \"Beveridge Factor\": 0.5272727272727272}, {\"Date\": \"2004-11-01T00:00:00\", \"Unemployment Rate\": 5.4, \"Job Openings Rate\": 2.6, \"Beveridge Factor\": 0.48148148148148145}, {\"Date\": \"2004-12-01T00:00:00\", \"Unemployment Rate\": 5.4, \"Job Openings Rate\": 3.0, \"Beveridge Factor\": 0.5555555555555555}, {\"Date\": \"2005-01-01T00:00:00\", \"Unemployment Rate\": 5.3, \"Job Openings Rate\": 2.8, \"Beveridge Factor\": 0.5283018867924528}, {\"Date\": \"2005-02-01T00:00:00\", \"Unemployment Rate\": 5.4, \"Job Openings Rate\": 2.9, \"Beveridge Factor\": 0.537037037037037}, {\"Date\": \"2005-03-01T00:00:00\", \"Unemployment Rate\": 5.2, \"Job Openings Rate\": 2.9, \"Beveridge Factor\": 0.5576923076923077}, {\"Date\": \"2005-04-01T00:00:00\", \"Unemployment Rate\": 5.2, \"Job Openings Rate\": 3.0, \"Beveridge Factor\": 0.5769230769230769}, {\"Date\": \"2005-05-01T00:00:00\", \"Unemployment Rate\": 5.1, \"Job Openings Rate\": 2.8, \"Beveridge Factor\": 0.5490196078431373}, {\"Date\": \"2005-06-01T00:00:00\", \"Unemployment Rate\": 5.0, \"Job Openings Rate\": 2.9, \"Beveridge Factor\": 0.58}, {\"Date\": \"2005-07-01T00:00:00\", \"Unemployment Rate\": 5.0, \"Job Openings Rate\": 3.1, \"Beveridge Factor\": 0.62}, {\"Date\": \"2005-08-01T00:00:00\", \"Unemployment Rate\": 4.9, \"Job Openings Rate\": 3.0, \"Beveridge Factor\": 0.6122448979591836}, {\"Date\": \"2005-09-01T00:00:00\", \"Unemployment Rate\": 5.0, \"Job Openings Rate\": 3.1, \"Beveridge Factor\": 0.62}, {\"Date\": \"2005-10-01T00:00:00\", \"Unemployment Rate\": 5.0, \"Job Openings Rate\": 3.0, \"Beveridge Factor\": 0.6}, {\"Date\": \"2005-11-01T00:00:00\", \"Unemployment Rate\": 5.0, \"Job Openings Rate\": 3.1, \"Beveridge Factor\": 0.62}, {\"Date\": \"2005-12-01T00:00:00\", \"Unemployment Rate\": 4.9, \"Job Openings Rate\": 3.1, \"Beveridge Factor\": 0.6326530612244897}, {\"Date\": \"2006-01-01T00:00:00\", \"Unemployment Rate\": 4.7, \"Job Openings Rate\": 3.1, \"Beveridge Factor\": 0.6595744680851063}, {\"Date\": \"2006-02-01T00:00:00\", \"Unemployment Rate\": 4.8, \"Job Openings Rate\": 3.1, \"Beveridge Factor\": 0.6458333333333334}, {\"Date\": \"2006-03-01T00:00:00\", \"Unemployment Rate\": 4.7, \"Job Openings Rate\": 3.4, \"Beveridge Factor\": 0.7234042553191489}, {\"Date\": \"2006-04-01T00:00:00\", \"Unemployment Rate\": 4.7, \"Job Openings Rate\": 3.4, \"Beveridge Factor\": 0.7234042553191489}, {\"Date\": \"2006-05-01T00:00:00\", \"Unemployment Rate\": 4.6, \"Job Openings Rate\": 3.2, \"Beveridge Factor\": 0.6956521739130436}, {\"Date\": \"2006-06-01T00:00:00\", \"Unemployment Rate\": 4.6, \"Job Openings Rate\": 3.3, \"Beveridge Factor\": 0.717391304347826}, {\"Date\": \"2006-07-01T00:00:00\", \"Unemployment Rate\": 4.7, \"Job Openings Rate\": 3.1, \"Beveridge Factor\": 0.6595744680851063}, {\"Date\": \"2006-08-01T00:00:00\", \"Unemployment Rate\": 4.7, \"Job Openings Rate\": 3.3, \"Beveridge Factor\": 0.702127659574468}, {\"Date\": \"2006-09-01T00:00:00\", \"Unemployment Rate\": 4.5, \"Job Openings Rate\": 3.3, \"Beveridge Factor\": 0.7333333333333333}, {\"Date\": \"2006-10-01T00:00:00\", \"Unemployment Rate\": 4.4, \"Job Openings Rate\": 3.2, \"Beveridge Factor\": 0.7272727272727273}, {\"Date\": \"2006-11-01T00:00:00\", \"Unemployment Rate\": 4.5, \"Job Openings Rate\": 3.3, \"Beveridge Factor\": 0.7333333333333333}, {\"Date\": \"2006-12-01T00:00:00\", \"Unemployment Rate\": 4.4, \"Job Openings Rate\": 3.3, \"Beveridge Factor\": 0.7499999999999999}, {\"Date\": \"2007-01-01T00:00:00\", \"Unemployment Rate\": 4.6, \"Job Openings Rate\": 3.3, \"Beveridge Factor\": 0.717391304347826}, {\"Date\": \"2007-02-01T00:00:00\", \"Unemployment Rate\": 4.5, \"Job Openings Rate\": 3.3, \"Beveridge Factor\": 0.7333333333333333}, {\"Date\": \"2007-03-01T00:00:00\", \"Unemployment Rate\": 4.4, \"Job Openings Rate\": 3.5, \"Beveridge Factor\": 0.7954545454545454}, {\"Date\": \"2007-04-01T00:00:00\", \"Unemployment Rate\": 4.5, \"Job Openings Rate\": 3.3, \"Beveridge Factor\": 0.7333333333333333}, {\"Date\": \"2007-05-01T00:00:00\", \"Unemployment Rate\": 4.4, \"Job Openings Rate\": 3.3, \"Beveridge Factor\": 0.7499999999999999}, {\"Date\": \"2007-06-01T00:00:00\", \"Unemployment Rate\": 4.6, \"Job Openings Rate\": 3.4, \"Beveridge Factor\": 0.7391304347826088}, {\"Date\": \"2007-07-01T00:00:00\", \"Unemployment Rate\": 4.7, \"Job Openings Rate\": 3.2, \"Beveridge Factor\": 0.6808510638297872}, {\"Date\": \"2007-08-01T00:00:00\", \"Unemployment Rate\": 4.6, \"Job Openings Rate\": 3.2, \"Beveridge Factor\": 0.6956521739130436}, {\"Date\": \"2007-09-01T00:00:00\", \"Unemployment Rate\": 4.7, \"Job Openings Rate\": 3.3, \"Beveridge Factor\": 0.702127659574468}, {\"Date\": \"2007-10-01T00:00:00\", \"Unemployment Rate\": 4.7, \"Job Openings Rate\": 3.2, \"Beveridge Factor\": 0.6808510638297872}, {\"Date\": \"2007-11-01T00:00:00\", \"Unemployment Rate\": 4.7, \"Job Openings Rate\": 3.3, \"Beveridge Factor\": 0.702127659574468}, {\"Date\": \"2007-12-01T00:00:00\", \"Unemployment Rate\": 5.0, \"Job Openings Rate\": 3.2, \"Beveridge Factor\": 0.64}, {\"Date\": \"2008-01-01T00:00:00\", \"Unemployment Rate\": 5.0, \"Job Openings Rate\": 3.2, \"Beveridge Factor\": 0.64}, {\"Date\": \"2008-02-01T00:00:00\", \"Unemployment Rate\": 4.9, \"Job Openings Rate\": 3.0, \"Beveridge Factor\": 0.6122448979591836}, {\"Date\": \"2008-03-01T00:00:00\", \"Unemployment Rate\": 5.1, \"Job Openings Rate\": 3.0, \"Beveridge Factor\": 0.5882352941176471}, {\"Date\": \"2008-04-01T00:00:00\", \"Unemployment Rate\": 5.0, \"Job Openings Rate\": 2.8, \"Beveridge Factor\": 0.5599999999999999}, {\"Date\": \"2008-05-01T00:00:00\", \"Unemployment Rate\": 5.4, \"Job Openings Rate\": 3.0, \"Beveridge Factor\": 0.5555555555555555}, {\"Date\": \"2008-06-01T00:00:00\", \"Unemployment Rate\": 5.6, \"Job Openings Rate\": 2.7, \"Beveridge Factor\": 0.4821428571428572}, {\"Date\": \"2008-07-01T00:00:00\", \"Unemployment Rate\": 5.8, \"Job Openings Rate\": 2.7, \"Beveridge Factor\": 0.4655172413793104}, {\"Date\": \"2008-08-01T00:00:00\", \"Unemployment Rate\": 6.1, \"Job Openings Rate\": 2.6, \"Beveridge Factor\": 0.42622950819672134}, {\"Date\": \"2008-09-01T00:00:00\", \"Unemployment Rate\": 6.1, \"Job Openings Rate\": 2.3, \"Beveridge Factor\": 0.3770491803278688}, {\"Date\": \"2008-10-01T00:00:00\", \"Unemployment Rate\": 6.5, \"Job Openings Rate\": 2.4, \"Beveridge Factor\": 0.3692307692307692}, {\"Date\": \"2008-11-01T00:00:00\", \"Unemployment Rate\": 6.8, \"Job Openings Rate\": 2.3, \"Beveridge Factor\": 0.338235294117647}, {\"Date\": \"2008-12-01T00:00:00\", \"Unemployment Rate\": 7.3, \"Job Openings Rate\": 2.3, \"Beveridge Factor\": 0.3150684931506849}, {\"Date\": \"2009-01-01T00:00:00\", \"Unemployment Rate\": 7.8, \"Job Openings Rate\": 2.0, \"Beveridge Factor\": 0.25641025641025644}, {\"Date\": \"2009-02-01T00:00:00\", \"Unemployment Rate\": 8.3, \"Job Openings Rate\": 2.1, \"Beveridge Factor\": 0.25301204819277107}, {\"Date\": \"2009-03-01T00:00:00\", \"Unemployment Rate\": 8.7, \"Job Openings Rate\": 1.9, \"Beveridge Factor\": 0.21839080459770116}, {\"Date\": \"2009-04-01T00:00:00\", \"Unemployment Rate\": 9.0, \"Job Openings Rate\": 1.7, \"Beveridge Factor\": 0.18888888888888888}, {\"Date\": \"2009-05-01T00:00:00\", \"Unemployment Rate\": 9.4, \"Job Openings Rate\": 1.9, \"Beveridge Factor\": 0.20212765957446807}, {\"Date\": \"2009-06-01T00:00:00\", \"Unemployment Rate\": 9.5, \"Job Openings Rate\": 1.9, \"Beveridge Factor\": 0.19999999999999998}, {\"Date\": \"2009-07-01T00:00:00\", \"Unemployment Rate\": 9.5, \"Job Openings Rate\": 1.7, \"Beveridge Factor\": 0.17894736842105263}, {\"Date\": \"2009-08-01T00:00:00\", \"Unemployment Rate\": 9.6, \"Job Openings Rate\": 1.8, \"Beveridge Factor\": 0.1875}, {\"Date\": \"2009-09-01T00:00:00\", \"Unemployment Rate\": 9.8, \"Job Openings Rate\": 1.9, \"Beveridge Factor\": 0.19387755102040813}, {\"Date\": \"2009-10-01T00:00:00\", \"Unemployment Rate\": 10.0, \"Job Openings Rate\": 1.8, \"Beveridge Factor\": 0.18}, {\"Date\": \"2009-11-01T00:00:00\", \"Unemployment Rate\": 9.9, \"Job Openings Rate\": 1.9, \"Beveridge Factor\": 0.1919191919191919}, {\"Date\": \"2009-12-01T00:00:00\", \"Unemployment Rate\": 9.9, \"Job Openings Rate\": 1.9, \"Beveridge Factor\": 0.1919191919191919}, {\"Date\": \"2010-01-01T00:00:00\", \"Unemployment Rate\": 9.8, \"Job Openings Rate\": 2.1, \"Beveridge Factor\": 0.21428571428571427}, {\"Date\": \"2010-02-01T00:00:00\", \"Unemployment Rate\": 9.8, \"Job Openings Rate\": 2.0, \"Beveridge Factor\": 0.2040816326530612}, {\"Date\": \"2010-03-01T00:00:00\", \"Unemployment Rate\": 9.9, \"Job Openings Rate\": 2.0, \"Beveridge Factor\": 0.20202020202020202}, {\"Date\": \"2010-04-01T00:00:00\", \"Unemployment Rate\": 9.9, \"Job Openings Rate\": 2.4, \"Beveridge Factor\": 0.2424242424242424}, {\"Date\": \"2010-05-01T00:00:00\", \"Unemployment Rate\": 9.6, \"Job Openings Rate\": 2.2, \"Beveridge Factor\": 0.22916666666666669}, {\"Date\": \"2010-06-01T00:00:00\", \"Unemployment Rate\": 9.4, \"Job Openings Rate\": 2.1, \"Beveridge Factor\": 0.22340425531914893}, {\"Date\": \"2010-07-01T00:00:00\", \"Unemployment Rate\": 9.4, \"Job Openings Rate\": 2.3, \"Beveridge Factor\": 0.24468085106382975}, {\"Date\": \"2010-08-01T00:00:00\", \"Unemployment Rate\": 9.5, \"Job Openings Rate\": 2.2, \"Beveridge Factor\": 0.23157894736842108}, {\"Date\": \"2010-09-01T00:00:00\", \"Unemployment Rate\": 9.5, \"Job Openings Rate\": 2.2, \"Beveridge Factor\": 0.23157894736842108}, {\"Date\": \"2010-10-01T00:00:00\", \"Unemployment Rate\": 9.4, \"Job Openings Rate\": 2.4, \"Beveridge Factor\": 0.2553191489361702}, {\"Date\": \"2010-11-01T00:00:00\", \"Unemployment Rate\": 9.8, \"Job Openings Rate\": 2.4, \"Beveridge Factor\": 0.24489795918367344}, {\"Date\": \"2010-12-01T00:00:00\", \"Unemployment Rate\": 9.3, \"Job Openings Rate\": 2.3, \"Beveridge Factor\": 0.24731182795698922}, {\"Date\": \"2011-01-01T00:00:00\", \"Unemployment Rate\": 9.1, \"Job Openings Rate\": 2.3, \"Beveridge Factor\": 0.25274725274725274}, {\"Date\": \"2011-02-01T00:00:00\", \"Unemployment Rate\": 9.0, \"Job Openings Rate\": 2.4, \"Beveridge Factor\": 0.26666666666666666}, {\"Date\": \"2011-03-01T00:00:00\", \"Unemployment Rate\": 9.0, \"Job Openings Rate\": 2.4, \"Beveridge Factor\": 0.26666666666666666}, {\"Date\": \"2011-04-01T00:00:00\", \"Unemployment Rate\": 9.1, \"Job Openings Rate\": 2.4, \"Beveridge Factor\": 0.26373626373626374}, {\"Date\": \"2011-05-01T00:00:00\", \"Unemployment Rate\": 9.0, \"Job Openings Rate\": 2.4, \"Beveridge Factor\": 0.26666666666666666}, {\"Date\": \"2011-06-01T00:00:00\", \"Unemployment Rate\": 9.1, \"Job Openings Rate\": 2.6, \"Beveridge Factor\": 0.28571428571428575}, {\"Date\": \"2011-07-01T00:00:00\", \"Unemployment Rate\": 9.0, \"Job Openings Rate\": 2.7, \"Beveridge Factor\": 0.30000000000000004}, {\"Date\": \"2011-08-01T00:00:00\", \"Unemployment Rate\": 9.0, \"Job Openings Rate\": 2.5, \"Beveridge Factor\": 0.2777777777777778}, {\"Date\": \"2011-09-01T00:00:00\", \"Unemployment Rate\": 9.0, \"Job Openings Rate\": 2.8, \"Beveridge Factor\": 0.3111111111111111}, {\"Date\": \"2011-10-01T00:00:00\", \"Unemployment Rate\": 8.8, \"Job Openings Rate\": 2.7, \"Beveridge Factor\": 0.3068181818181818}, {\"Date\": \"2011-11-01T00:00:00\", \"Unemployment Rate\": 8.6, \"Job Openings Rate\": 2.6, \"Beveridge Factor\": 0.3023255813953489}, {\"Date\": \"2011-12-01T00:00:00\", \"Unemployment Rate\": 8.5, \"Job Openings Rate\": 2.8, \"Beveridge Factor\": 0.32941176470588235}, {\"Date\": \"2012-01-01T00:00:00\", \"Unemployment Rate\": 8.3, \"Job Openings Rate\": 2.8, \"Beveridge Factor\": 0.3373493975903614}, {\"Date\": \"2012-02-01T00:00:00\", \"Unemployment Rate\": 8.3, \"Job Openings Rate\": 2.6, \"Beveridge Factor\": 0.3132530120481928}, {\"Date\": \"2012-03-01T00:00:00\", \"Unemployment Rate\": 8.2, \"Job Openings Rate\": 2.9, \"Beveridge Factor\": 0.3536585365853659}, {\"Date\": \"2012-04-01T00:00:00\", \"Unemployment Rate\": 8.2, \"Job Openings Rate\": 2.8, \"Beveridge Factor\": 0.34146341463414637}, {\"Date\": \"2012-05-01T00:00:00\", \"Unemployment Rate\": 8.2, \"Job Openings Rate\": 2.8, \"Beveridge Factor\": 0.34146341463414637}, {\"Date\": \"2012-06-01T00:00:00\", \"Unemployment Rate\": 8.2, \"Job Openings Rate\": 2.8, \"Beveridge Factor\": 0.34146341463414637}, {\"Date\": \"2012-07-01T00:00:00\", \"Unemployment Rate\": 8.2, \"Job Openings Rate\": 2.7, \"Beveridge Factor\": 0.3292682926829269}, {\"Date\": \"2012-08-01T00:00:00\", \"Unemployment Rate\": 8.1, \"Job Openings Rate\": 2.8, \"Beveridge Factor\": 0.345679012345679}, {\"Date\": \"2012-09-01T00:00:00\", \"Unemployment Rate\": 7.8, \"Job Openings Rate\": 2.8, \"Beveridge Factor\": 0.358974358974359}, {\"Date\": \"2012-10-01T00:00:00\", \"Unemployment Rate\": 7.8, \"Job Openings Rate\": 2.7, \"Beveridge Factor\": 0.3461538461538462}, {\"Date\": \"2012-11-01T00:00:00\", \"Unemployment Rate\": 7.7, \"Job Openings Rate\": 2.8, \"Beveridge Factor\": 0.3636363636363636}, {\"Date\": \"2012-12-01T00:00:00\", \"Unemployment Rate\": 7.9, \"Job Openings Rate\": 2.9, \"Beveridge Factor\": 0.36708860759493667}, {\"Date\": \"2013-01-01T00:00:00\", \"Unemployment Rate\": 8.0, \"Job Openings Rate\": 2.8, \"Beveridge Factor\": 0.35}, {\"Date\": \"2013-02-01T00:00:00\", \"Unemployment Rate\": 7.7, \"Job Openings Rate\": 2.9, \"Beveridge Factor\": 0.3766233766233766}, {\"Date\": \"2013-03-01T00:00:00\", \"Unemployment Rate\": 7.5, \"Job Openings Rate\": 2.9, \"Beveridge Factor\": 0.38666666666666666}, {\"Date\": \"2013-04-01T00:00:00\", \"Unemployment Rate\": 7.6, \"Job Openings Rate\": 2.9, \"Beveridge Factor\": 0.3815789473684211}, {\"Date\": \"2013-05-01T00:00:00\", \"Unemployment Rate\": 7.5, \"Job Openings Rate\": 3.0, \"Beveridge Factor\": 0.4}, {\"Date\": \"2013-06-01T00:00:00\", \"Unemployment Rate\": 7.5, \"Job Openings Rate\": 3.0, \"Beveridge Factor\": 0.4}, {\"Date\": \"2013-07-01T00:00:00\", \"Unemployment Rate\": 7.3, \"Job Openings Rate\": 2.8, \"Beveridge Factor\": 0.3835616438356164}, {\"Date\": \"2013-08-01T00:00:00\", \"Unemployment Rate\": 7.2, \"Job Openings Rate\": 2.9, \"Beveridge Factor\": 0.40277777777777773}, {\"Date\": \"2013-09-01T00:00:00\", \"Unemployment Rate\": 7.2, \"Job Openings Rate\": 2.9, \"Beveridge Factor\": 0.40277777777777773}, {\"Date\": \"2013-10-01T00:00:00\", \"Unemployment Rate\": 7.2, \"Job Openings Rate\": 3.0, \"Beveridge Factor\": 0.41666666666666663}, {\"Date\": \"2013-11-01T00:00:00\", \"Unemployment Rate\": 6.9, \"Job Openings Rate\": 2.9, \"Beveridge Factor\": 0.42028985507246375}, {\"Date\": \"2013-12-01T00:00:00\", \"Unemployment Rate\": 6.7, \"Job Openings Rate\": 2.9, \"Beveridge Factor\": 0.43283582089552236}, {\"Date\": \"2014-01-01T00:00:00\", \"Unemployment Rate\": 6.6, \"Job Openings Rate\": 2.9, \"Beveridge Factor\": 0.4393939393939394}, {\"Date\": \"2014-02-01T00:00:00\", \"Unemployment Rate\": 6.7, \"Job Openings Rate\": 3.1, \"Beveridge Factor\": 0.4626865671641791}, {\"Date\": \"2014-03-01T00:00:00\", \"Unemployment Rate\": 6.7, \"Job Openings Rate\": 3.1, \"Beveridge Factor\": 0.4626865671641791}, {\"Date\": \"2014-04-01T00:00:00\", \"Unemployment Rate\": 6.2, \"Job Openings Rate\": 3.2, \"Beveridge Factor\": 0.5161290322580645}, {\"Date\": \"2014-05-01T00:00:00\", \"Unemployment Rate\": 6.3, \"Job Openings Rate\": 3.3, \"Beveridge Factor\": 0.5238095238095238}, {\"Date\": \"2014-06-01T00:00:00\", \"Unemployment Rate\": 6.1, \"Job Openings Rate\": 3.5, \"Beveridge Factor\": 0.5737704918032788}, {\"Date\": \"2014-07-01T00:00:00\", \"Unemployment Rate\": 6.2, \"Job Openings Rate\": 3.4, \"Beveridge Factor\": 0.5483870967741935}, {\"Date\": \"2014-08-01T00:00:00\", \"Unemployment Rate\": 6.1, \"Job Openings Rate\": 3.7, \"Beveridge Factor\": 0.6065573770491804}, {\"Date\": \"2014-09-01T00:00:00\", \"Unemployment Rate\": 5.9, \"Job Openings Rate\": 3.4, \"Beveridge Factor\": 0.5762711864406779}, {\"Date\": \"2014-10-01T00:00:00\", \"Unemployment Rate\": 5.7, \"Job Openings Rate\": 3.5, \"Beveridge Factor\": 0.6140350877192983}, {\"Date\": \"2014-11-01T00:00:00\", \"Unemployment Rate\": 5.8, \"Job Openings Rate\": 3.3, \"Beveridge Factor\": 0.5689655172413793}, {\"Date\": \"2014-12-01T00:00:00\", \"Unemployment Rate\": 5.6, \"Job Openings Rate\": 3.5, \"Beveridge Factor\": 0.625}, {\"Date\": \"2015-01-01T00:00:00\", \"Unemployment Rate\": 5.7, \"Job Openings Rate\": 3.7, \"Beveridge Factor\": 0.6491228070175439}, {\"Date\": \"2015-02-01T00:00:00\", \"Unemployment Rate\": 5.5, \"Job Openings Rate\": 3.7, \"Beveridge Factor\": 0.6727272727272727}, {\"Date\": \"2015-03-01T00:00:00\", \"Unemployment Rate\": 5.4, \"Job Openings Rate\": 3.6, \"Beveridge Factor\": 0.6666666666666666}, {\"Date\": \"2015-04-01T00:00:00\", \"Unemployment Rate\": 5.4, \"Job Openings Rate\": 3.8, \"Beveridge Factor\": 0.7037037037037036}, {\"Date\": \"2015-05-01T00:00:00\", \"Unemployment Rate\": 5.6, \"Job Openings Rate\": 3.8, \"Beveridge Factor\": 0.6785714285714286}, {\"Date\": \"2015-06-01T00:00:00\", \"Unemployment Rate\": 5.3, \"Job Openings Rate\": 3.6, \"Beveridge Factor\": 0.679245283018868}, {\"Date\": \"2015-07-01T00:00:00\", \"Unemployment Rate\": 5.2, \"Job Openings Rate\": 4.1, \"Beveridge Factor\": 0.7884615384615383}, {\"Date\": \"2015-08-01T00:00:00\", \"Unemployment Rate\": 5.1, \"Job Openings Rate\": 3.7, \"Beveridge Factor\": 0.7254901960784315}, {\"Date\": \"2015-09-01T00:00:00\", \"Unemployment Rate\": 5.0, \"Job Openings Rate\": 3.7, \"Beveridge Factor\": 0.74}, {\"Date\": \"2015-10-01T00:00:00\", \"Unemployment Rate\": 5.0, \"Job Openings Rate\": 3.9, \"Beveridge Factor\": 0.78}, {\"Date\": \"2015-11-01T00:00:00\", \"Unemployment Rate\": 5.1, \"Job Openings Rate\": 3.8, \"Beveridge Factor\": 0.7450980392156863}, {\"Date\": \"2015-12-01T00:00:00\", \"Unemployment Rate\": 5.0, \"Job Openings Rate\": 3.9, \"Beveridge Factor\": 0.78}, {\"Date\": \"2016-01-01T00:00:00\", \"Unemployment Rate\": 4.8, \"Job Openings Rate\": 4.0, \"Beveridge Factor\": 0.8333333333333334}, {\"Date\": \"2016-02-01T00:00:00\", \"Unemployment Rate\": 4.9, \"Job Openings Rate\": 3.9, \"Beveridge Factor\": 0.7959183673469387}, {\"Date\": \"2016-03-01T00:00:00\", \"Unemployment Rate\": 5.0, \"Job Openings Rate\": 4.1, \"Beveridge Factor\": 0.82}, {\"Date\": \"2016-04-01T00:00:00\", \"Unemployment Rate\": 5.1, \"Job Openings Rate\": 3.9, \"Beveridge Factor\": 0.7647058823529412}, {\"Date\": \"2016-05-01T00:00:00\", \"Unemployment Rate\": 4.8, \"Job Openings Rate\": 3.9, \"Beveridge Factor\": 0.8125}, {\"Date\": \"2016-06-01T00:00:00\", \"Unemployment Rate\": 4.9, \"Job Openings Rate\": 3.8, \"Beveridge Factor\": 0.7755102040816325}, {\"Date\": \"2016-07-01T00:00:00\", \"Unemployment Rate\": 4.8, \"Job Openings Rate\": 4.0, \"Beveridge Factor\": 0.8333333333333334}, {\"Date\": \"2016-08-01T00:00:00\", \"Unemployment Rate\": 4.9, \"Job Openings Rate\": 3.8, \"Beveridge Factor\": 0.7755102040816325}, {\"Date\": \"2016-09-01T00:00:00\", \"Unemployment Rate\": 5.0, \"Job Openings Rate\": 3.9, \"Beveridge Factor\": 0.78}, {\"Date\": \"2016-10-01T00:00:00\", \"Unemployment Rate\": 4.9, \"Job Openings Rate\": 3.7, \"Beveridge Factor\": 0.7551020408163265}, {\"Date\": \"2016-11-01T00:00:00\", \"Unemployment Rate\": 4.7, \"Job Openings Rate\": 4.0, \"Beveridge Factor\": 0.851063829787234}, {\"Date\": \"2016-12-01T00:00:00\", \"Unemployment Rate\": 4.7, \"Job Openings Rate\": 3.9, \"Beveridge Factor\": 0.8297872340425532}, {\"Date\": \"2017-01-01T00:00:00\", \"Unemployment Rate\": 4.7, \"Job Openings Rate\": 3.7, \"Beveridge Factor\": 0.7872340425531915}, {\"Date\": \"2017-02-01T00:00:00\", \"Unemployment Rate\": 4.6, \"Job Openings Rate\": 3.9, \"Beveridge Factor\": 0.8478260869565218}, {\"Date\": \"2017-03-01T00:00:00\", \"Unemployment Rate\": 4.4, \"Job Openings Rate\": 3.8, \"Beveridge Factor\": 0.8636363636363635}, {\"Date\": \"2017-04-01T00:00:00\", \"Unemployment Rate\": 4.4, \"Job Openings Rate\": 4.0, \"Beveridge Factor\": 0.9090909090909091}, {\"Date\": \"2017-05-01T00:00:00\", \"Unemployment Rate\": 4.4, \"Job Openings Rate\": 3.8, \"Beveridge Factor\": 0.8636363636363635}, {\"Date\": \"2017-06-01T00:00:00\", \"Unemployment Rate\": 4.3, \"Job Openings Rate\": 4.1, \"Beveridge Factor\": 0.9534883720930232}, {\"Date\": \"2017-07-01T00:00:00\", \"Unemployment Rate\": 4.3, \"Job Openings Rate\": 4.1, \"Beveridge Factor\": 0.9534883720930232}, {\"Date\": \"2017-08-01T00:00:00\", \"Unemployment Rate\": 4.4, \"Job Openings Rate\": 4.1, \"Beveridge Factor\": 0.9318181818181817}, {\"Date\": \"2017-09-01T00:00:00\", \"Unemployment Rate\": 4.3, \"Job Openings Rate\": 4.1, \"Beveridge Factor\": 0.9534883720930232}, {\"Date\": \"2017-10-01T00:00:00\", \"Unemployment Rate\": 4.2, \"Job Openings Rate\": 4.2, \"Beveridge Factor\": 1.0}, {\"Date\": \"2017-11-01T00:00:00\", \"Unemployment Rate\": 4.2, \"Job Openings Rate\": 4.1, \"Beveridge Factor\": 0.976190476190476}, {\"Date\": \"2017-12-01T00:00:00\", \"Unemployment Rate\": 4.1, \"Job Openings Rate\": 4.1, \"Beveridge Factor\": 1.0}, {\"Date\": \"2018-01-01T00:00:00\", \"Unemployment Rate\": 4.0, \"Job Openings Rate\": 4.3, \"Beveridge Factor\": 1.075}, {\"Date\": \"2018-02-01T00:00:00\", \"Unemployment Rate\": 4.1, \"Job Openings Rate\": 4.2, \"Beveridge Factor\": 1.024390243902439}, {\"Date\": \"2018-03-01T00:00:00\", \"Unemployment Rate\": 4.0, \"Job Openings Rate\": 4.4, \"Beveridge Factor\": 1.1}, {\"Date\": \"2018-04-01T00:00:00\", \"Unemployment Rate\": 4.0, \"Job Openings Rate\": 4.4, \"Beveridge Factor\": 1.1}, {\"Date\": \"2018-05-01T00:00:00\", \"Unemployment Rate\": 3.8, \"Job Openings Rate\": 4.5, \"Beveridge Factor\": 1.1842105263157896}, {\"Date\": \"2018-06-01T00:00:00\", \"Unemployment Rate\": 4.0, \"Job Openings Rate\": 4.6, \"Beveridge Factor\": 1.15}, {\"Date\": \"2018-07-01T00:00:00\", \"Unemployment Rate\": 3.8, \"Job Openings Rate\": 4.6, \"Beveridge Factor\": 1.2105263157894737}, {\"Date\": \"2018-08-01T00:00:00\", \"Unemployment Rate\": 3.8, \"Job Openings Rate\": 4.6, \"Beveridge Factor\": 1.2105263157894737}, {\"Date\": \"2018-09-01T00:00:00\", \"Unemployment Rate\": 3.7, \"Job Openings Rate\": 4.7, \"Beveridge Factor\": 1.2702702702702702}, {\"Date\": \"2018-10-01T00:00:00\", \"Unemployment Rate\": 3.8, \"Job Openings Rate\": 4.7, \"Beveridge Factor\": 1.236842105263158}, {\"Date\": \"2018-11-01T00:00:00\", \"Unemployment Rate\": 3.8, \"Job Openings Rate\": 4.8, \"Beveridge Factor\": 1.263157894736842}, {\"Date\": \"2018-12-01T00:00:00\", \"Unemployment Rate\": 3.9, \"Job Openings Rate\": 4.8, \"Beveridge Factor\": 1.2307692307692308}, {\"Date\": \"2019-01-01T00:00:00\", \"Unemployment Rate\": 4.0, \"Job Openings Rate\": 4.8, \"Beveridge Factor\": 1.2}, {\"Date\": \"2019-02-01T00:00:00\", \"Unemployment Rate\": 3.8, \"Job Openings Rate\": 4.5, \"Beveridge Factor\": 1.1842105263157896}, {\"Date\": \"2019-03-01T00:00:00\", \"Unemployment Rate\": 3.8, \"Job Openings Rate\": 4.7, \"Beveridge Factor\": 1.236842105263158}, {\"Date\": \"2019-04-01T00:00:00\", \"Unemployment Rate\": 3.6, \"Job Openings Rate\": 4.6, \"Beveridge Factor\": 1.2777777777777777}, {\"Date\": \"2019-05-01T00:00:00\", \"Unemployment Rate\": 3.7, \"Job Openings Rate\": 4.6, \"Beveridge Factor\": 1.243243243243243}, {\"Date\": \"2019-06-01T00:00:00\", \"Unemployment Rate\": 3.6, \"Job Openings Rate\": 4.5, \"Beveridge Factor\": 1.25}, {\"Date\": \"2019-07-01T00:00:00\", \"Unemployment Rate\": 3.7, \"Job Openings Rate\": 4.5, \"Beveridge Factor\": 1.2162162162162162}, {\"Date\": \"2019-08-01T00:00:00\", \"Unemployment Rate\": 3.7, \"Job Openings Rate\": 4.5, \"Beveridge Factor\": 1.2162162162162162}, {\"Date\": \"2019-09-01T00:00:00\", \"Unemployment Rate\": 3.5, \"Job Openings Rate\": 4.5, \"Beveridge Factor\": 1.2857142857142858}, {\"Date\": \"2019-10-01T00:00:00\", \"Unemployment Rate\": 3.6, \"Job Openings Rate\": 4.6, \"Beveridge Factor\": 1.2777777777777777}, {\"Date\": \"2019-11-01T00:00:00\", \"Unemployment Rate\": 3.6, \"Job Openings Rate\": 4.4, \"Beveridge Factor\": 1.2222222222222223}, {\"Date\": \"2019-12-01T00:00:00\", \"Unemployment Rate\": 3.6, \"Job Openings Rate\": 4.2, \"Beveridge Factor\": 1.1666666666666667}, {\"Date\": \"2020-01-01T00:00:00\", \"Unemployment Rate\": 3.5, \"Job Openings Rate\": 4.5, \"Beveridge Factor\": 1.2857142857142858}, {\"Date\": \"2020-02-01T00:00:00\", \"Unemployment Rate\": 3.5, \"Job Openings Rate\": 4.4, \"Beveridge Factor\": 1.2571428571428573}, {\"Date\": \"2020-03-01T00:00:00\", \"Unemployment Rate\": 4.4, \"Job Openings Rate\": 3.7, \"Beveridge Factor\": 0.8409090909090908}, {\"Date\": \"2020-04-01T00:00:00\", \"Unemployment Rate\": 14.7, \"Job Openings Rate\": 3.5, \"Beveridge Factor\": 0.2380952380952381}, {\"Date\": \"2020-05-01T00:00:00\", \"Unemployment Rate\": 13.2, \"Job Openings Rate\": 4.0, \"Beveridge Factor\": 0.30303030303030304}, {\"Date\": \"2020-06-01T00:00:00\", \"Unemployment Rate\": 11.0, \"Job Openings Rate\": 4.3, \"Beveridge Factor\": 0.3909090909090909}, {\"Date\": \"2020-07-01T00:00:00\", \"Unemployment Rate\": 10.2, \"Job Openings Rate\": 4.5, \"Beveridge Factor\": 0.44117647058823534}, {\"Date\": \"2020-08-01T00:00:00\", \"Unemployment Rate\": 8.4, \"Job Openings Rate\": 4.3, \"Beveridge Factor\": 0.5119047619047619}, {\"Date\": \"2020-09-01T00:00:00\", \"Unemployment Rate\": 7.9, \"Job Openings Rate\": 4.4, \"Beveridge Factor\": 0.5569620253164557}, {\"Date\": \"2020-10-01T00:00:00\", \"Unemployment Rate\": 6.9, \"Job Openings Rate\": 4.6, \"Beveridge Factor\": 0.6666666666666666}, {\"Date\": \"2020-11-01T00:00:00\", \"Unemployment Rate\": 6.7, \"Job Openings Rate\": 4.6, \"Beveridge Factor\": 0.6865671641791045}, {\"Date\": \"2020-12-01T00:00:00\", \"Unemployment Rate\": 6.7, \"Job Openings Rate\": 4.6, \"Beveridge Factor\": 0.6865671641791045}, {\"Date\": \"2021-01-01T00:00:00\", \"Unemployment Rate\": 6.3, \"Job Openings Rate\": 4.8, \"Beveridge Factor\": 0.7619047619047619}, {\"Date\": \"2021-02-01T00:00:00\", \"Unemployment Rate\": 6.2, \"Job Openings Rate\": 5.1, \"Beveridge Factor\": 0.8225806451612903}, {\"Date\": \"2021-03-01T00:00:00\", \"Unemployment Rate\": 6.1, \"Job Openings Rate\": 5.5, \"Beveridge Factor\": 0.9016393442622951}, {\"Date\": \"2021-04-01T00:00:00\", \"Unemployment Rate\": 6.1, \"Job Openings Rate\": 6.0, \"Beveridge Factor\": 0.9836065573770493}, {\"Date\": \"2021-05-01T00:00:00\", \"Unemployment Rate\": 5.8, \"Job Openings Rate\": 6.4, \"Beveridge Factor\": 1.103448275862069}, {\"Date\": \"2021-06-01T00:00:00\", \"Unemployment Rate\": 5.9, \"Job Openings Rate\": 6.5, \"Beveridge Factor\": 1.1016949152542372}, {\"Date\": \"2021-07-01T00:00:00\", \"Unemployment Rate\": 5.4, \"Job Openings Rate\": 6.9, \"Beveridge Factor\": 1.2777777777777777}, {\"Date\": \"2021-08-01T00:00:00\", \"Unemployment Rate\": 5.2, \"Job Openings Rate\": 6.9, \"Beveridge Factor\": 1.3269230769230769}, {\"Date\": \"2021-09-01T00:00:00\", \"Unemployment Rate\": 4.8, \"Job Openings Rate\": 6.9, \"Beveridge Factor\": 1.4375000000000002}, {\"Date\": \"2021-10-01T00:00:00\", \"Unemployment Rate\": 4.5, \"Job Openings Rate\": 7.1, \"Beveridge Factor\": 1.5777777777777777}, {\"Date\": \"2021-11-01T00:00:00\", \"Unemployment Rate\": 4.2, \"Job Openings Rate\": 7.0, \"Beveridge Factor\": 1.6666666666666665}, {\"Date\": \"2021-12-01T00:00:00\", \"Unemployment Rate\": 3.9, \"Job Openings Rate\": 7.3, \"Beveridge Factor\": 1.8717948717948718}, {\"Date\": \"2022-01-01T00:00:00\", \"Unemployment Rate\": 4.0, \"Job Openings Rate\": 7.1, \"Beveridge Factor\": 1.775}, {\"Date\": \"2022-02-01T00:00:00\", \"Unemployment Rate\": 3.8, \"Job Openings Rate\": 7.1, \"Beveridge Factor\": 1.868421052631579}, {\"Date\": \"2022-03-01T00:00:00\", \"Unemployment Rate\": 3.6, \"Job Openings Rate\": 7.4, \"Beveridge Factor\": 2.055555555555556}, {\"Date\": \"2022-04-01T00:00:00\", \"Unemployment Rate\": 3.6, \"Job Openings Rate\": 7.2, \"Beveridge Factor\": 2.0}, {\"Date\": \"2022-05-01T00:00:00\", \"Unemployment Rate\": 3.6, \"Job Openings Rate\": 7.0, \"Beveridge Factor\": 1.9444444444444444}, {\"Date\": \"2022-06-01T00:00:00\", \"Unemployment Rate\": 3.6, \"Job Openings Rate\": 6.7, \"Beveridge Factor\": 1.8611111111111112}, {\"Date\": \"2022-07-01T00:00:00\", \"Unemployment Rate\": 3.5, \"Job Openings Rate\": 6.9, \"Beveridge Factor\": 1.9714285714285715}, {\"Date\": \"2022-08-01T00:00:00\", \"Unemployment Rate\": 3.7, \"Job Openings Rate\": 6.2, \"Beveridge Factor\": 1.6756756756756757}, {\"Date\": \"2022-09-01T00:00:00\", \"Unemployment Rate\": 3.5, \"Job Openings Rate\": 6.6, \"Beveridge Factor\": 1.8857142857142857}, {\"Date\": \"2022-10-01T00:00:00\", \"Unemployment Rate\": 3.7, \"Job Openings Rate\": 6.4, \"Beveridge Factor\": 1.7297297297297298}, {\"Date\": \"2022-11-01T00:00:00\", \"Unemployment Rate\": 3.6, \"Job Openings Rate\": 6.5, \"Beveridge Factor\": 1.8055555555555556}, {\"Date\": \"2022-12-01T00:00:00\", \"Unemployment Rate\": 3.5, \"Job Openings Rate\": 6.8, \"Beveridge Factor\": 1.9428571428571428}, {\"Date\": \"2023-01-01T00:00:00\", \"Unemployment Rate\": 3.4, \"Job Openings Rate\": 6.4, \"Beveridge Factor\": 1.8823529411764708}, {\"Date\": \"2023-02-01T00:00:00\", \"Unemployment Rate\": 3.6, \"Job Openings Rate\": 6.0, \"Beveridge Factor\": 1.6666666666666665}, {\"Date\": \"2023-03-01T00:00:00\", \"Unemployment Rate\": 3.5, \"Job Openings Rate\": null, \"Beveridge Factor\": null}]}}, {\"mode\": \"vega-lite\"});\n",
       "</script>"
      ],
      "text/plain": [
       "alt.VConcatChart(...)"
      ]
     },
     "execution_count": 6,
     "metadata": {},
     "output_type": "execute_result"
    }
   ],
   "source": [
    "select_year = alt.selection_interval(encodings=[\"x\"])\n",
    "\n",
    "bar_slider = (\n",
    "    alt.Chart(bv.reset_index())\n",
    "    .mark_bar()\n",
    "    .encode(x=\"year(Date)\", y=\"mean(Beveridge Factor)\")\n",
    "    .properties(height=50, width=800)\n",
    "    .add_selection(select_year)\n",
    ")\n",
    "\n",
    "plot = (\n",
    "    alt.Chart(bv.reset_index())\n",
    "    .mark_point(size=100)\n",
    "    .encode(\n",
    "        x=\"Unemployment Rate\",\n",
    "        y=\"Job Openings Rate\",\n",
    "        color=\"Job Openings Rate\",\n",
    "        tooltip=[\"Date\", \"Unemployment Rate\", \"Job Openings Rate\"],\n",
    "        opacity=alt.condition(select_year, alt.value(0.7), alt.value(0.1)),\n",
    "    )\n",
    "    .interactive()\n",
    ").properties(\n",
    "    title=\"The Beveridge Curve (job openings rate vs. unemployment rate), seasonally adjusted\",\n",
    "    width=800,\n",
    "    height=400,\n",
    ")\n",
    "plot & bar_slider"
   ]
  },
  {
   "cell_type": "code",
   "execution_count": 7,
   "metadata": {
    "execution": {
     "iopub.execute_input": "2023-04-18T04:08:26.359116Z",
     "iopub.status.busy": "2023-04-18T04:08:26.359015Z",
     "iopub.status.idle": "2023-04-18T04:08:26.360735Z",
     "shell.execute_reply": "2023-04-18T04:08:26.360408Z"
    }
   },
   "outputs": [],
   "source": [
    "current_year = pd.Timestamp.today().year"
   ]
  },
  {
   "cell_type": "code",
   "execution_count": 8,
   "metadata": {
    "execution": {
     "iopub.execute_input": "2023-04-18T04:08:26.362060Z",
     "iopub.status.busy": "2023-04-18T04:08:26.361984Z",
     "iopub.status.idle": "2023-04-18T04:08:26.370263Z",
     "shell.execute_reply": "2023-04-18T04:08:26.369995Z"
    }
   },
   "outputs": [],
   "source": [
    "view = dp.View(\n",
    "    dp.Blocks(\n",
    "        \"# Beveridge Curve\",\n",
    "        dp.Formula(\n",
    "            r\"\\text{Beveridge Factor} = \\frac{\\text{Job Openings Rate}}{\\text{Unemployment Rate}}\"\n",
    "        ),\n",
    "        dp.Plot(plot & bar_slider),\n",
    "        \"## Current Year\",\n",
    "        dp.Table(bv.loc[f\"{current_year}\"]),\n",
    "    )\n",
    ")"
   ]
  },
  {
   "cell_type": "code",
   "execution_count": 9,
   "metadata": {
    "execution": {
     "iopub.execute_input": "2023-04-18T04:08:26.371698Z",
     "iopub.status.busy": "2023-04-18T04:08:26.371620Z",
     "iopub.status.idle": "2023-04-18T04:08:26.393470Z",
     "shell.execute_reply": "2023-04-18T04:08:26.393189Z"
    }
   },
   "outputs": [
    {
     "data": {
      "text/html": [
       "<style>\n",
       "  #dp-b86a20cdc3434edfb8bf121a4a71bc20 {\n",
       "    width: 1px;\n",
       "    min-width: 100%;\n",
       "  }\n",
       "</style>\n",
       "<iframe id=\"dp-b86a20cdc3434edfb8bf121a4a71bc20\" srcdoc=\"&lt;!DOCTYPE html&gt;\n",
       "&lt;html lang=&quot;en&quot;&gt;\n",
       "  &lt;head&gt;\n",
       "&lt;meta charset=&quot;UTF-8&quot; /&gt;\n",
       "\n",
       "&lt;link rel=&quot;shortcut icon&quot; type=&quot;image/png&quot; href=&quot;https://datapane-cdn.com/static/v1/datapane-icon-192x192.png&quot;/&gt;\n",
       "&lt;link rel=&quot;shortcut icon&quot; sizes=&quot;192x192&quot; href=&quot;https://datapane-cdn.com/static/v1/datapane-icon-192x192.png&quot;/&gt;\n",
       "&lt;link rel=&quot;apple-touch-icon&quot; href=&quot;https://datapane-cdn.com/static/v1/datapane-icon-192x192.png&quot;/&gt;\n",
       "\n",
       "&lt;script src=&quot;https://kit.fontawesome.com/256c714d9a.js&quot;&gt;&lt;/script&gt;\n",
       "&lt;link\n",
       "  href=&quot;https://fonts.googleapis.com/css?family=Inter:400,500,600,700|Inconsolata|Karla|Rubik&amp;display=swap&quot;\n",
       "  rel=&quot;stylesheet&quot;\n",
       "/&gt;\n",
       "&lt;link rel=&quot;stylesheet&quot; href=&quot;https://datapane-cdn.com/v0.16.2/report/index.css&quot; /&gt;\n",
       "&lt;link rel=&quot;stylesheet&quot; href=&quot;https://datapane-cdn.com/v0.16.2/report/tailwind.css&quot; /&gt;\n",
       "&lt;script&gt;\n",
       "  // analytics config\n",
       "  // TODO -- pass these in as props for consistency?\n",
       "  window.dpAppRunner = &quot;False&quot; === &quot;True&quot;;\n",
       "  window.dpLocal = true;\n",
       "    window.dpLocalViewEvent = true;\n",
       "    window.dpReportId = &quot;b86a20cdc3434edfb8bf121a4a71bc20&quot;;\n",
       "    window.dpAuthorId = &quot;bb383dab30d54543ad1bc9a54a4971ce&quot;;\n",
       "\n",
       "  /* construct the view */\n",
       "  const htmlHeader = `&lt;style type=&quot;text/css&quot;&gt;:root {\n",
       "    --dp-accent-color: #4E46E5;\n",
       "    --dp-bg-color: #FFF;\n",
       "    --dp-text-align: justify;\n",
       "    --dp-font-family: Inter var, ui-sans-serif, system-ui;\n",
       "}&lt;/style&gt;`;\n",
       "  window.reportProps = { htmlHeader, isLightProse: false, isOrg: false, mode: &quot;VIEW&quot;, reportWidthClass: &quot;max-w-screen-xl&quot; };\n",
       "\n",
       "  if (!window.dpAppRunner) {\n",
       "      // pass app data via props if in local (static) mode, otherwise this data is fetched from the server\n",
       "      window.reportProps[&quot;appData&quot;] = { data: { result: {&quot;view_xml&quot;: &quot;\\u003cView version=\\&quot;1\\&quot; fragment=\\&quot;false\\&quot;\\u003e\\u003cText\\u003e\\u003c![CDATA[# Beveridge Curve]]\\u003e\\u003c/Text\\u003e\\u003cFormula\\u003e\\u003c![CDATA[\\\\text{Beveridge Factor} = \\\\frac{\\\\text{Job Openings Rate}}{\\\\text{Unemployment Rate}}]]\\u003e\\u003c/Formula\\u003e\\u003cPlot type=\\&quot;application/vnd.vegalite.v4+json\\&quot; responsive=\\&quot;true\\&quot; scale=\\&quot;1.0\\&quot; src=\\&quot;ref://866783145b\\&quot;/\\u003e\\u003cText\\u003e\\u003c![CDATA[## Current Year]]\\u003e\\u003c/Text\\u003e\\u003cTable type=\\&quot;application/vnd.datapane.table+html\\&quot; src=\\&quot;ref://5b1e0114f6\\&quot;/\\u003e\\u003c/View\\u003e&quot;, &quot;assets&quot;: {&quot;866783145b&quot;: {&quot;src&quot;: &quot;data:application/vnd.vegalite.v4+json;base64,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&quot;, &quot;hash&quot;: &quot;866783145b&quot;, &quot;size&quot;: 47524, &quot;mime&quot;: &quot;application/vnd.vegalite.v4+json&quot;}, &quot;5b1e0114f6&quot;: {&quot;src&quot;: &quot;data:application/vnd.datapane.table+html;base64,PHRhYmxlIGJvcmRlcj0iMSIgY2xhc3M9ImRhdGFmcmFtZSI+CiAgPHRoZWFkPgogICAgPHRyIHN0eWxlPSJ0ZXh0LWFsaWduOiByaWdodDsiPgogICAgICA8dGg+PC90aD4KICAgICAgPHRoPlVuZW1wbG95bWVudCBSYXRlPC90aD4KICAgICAgPHRoPkpvYiBPcGVuaW5ncyBSYXRlPC90aD4KICAgICAgPHRoPkJldmVyaWRnZSBGYWN0b3I8L3RoPgogICAgPC90cj4KICAgIDx0cj4KICAgICAgPHRoPkRhdGU8L3RoPgogICAgICA8dGg+PC90aD4KICAgICAgPHRoPjwvdGg+CiAgICAgIDx0aD48L3RoPgogICAgPC90cj4KICA8L3RoZWFkPgogIDx0Ym9keT4KICAgIDx0cj4KICAgICAgPHRoPjIwMjMtMDEtMDE8L3RoPgogICAgICA8dGQ+My40PC90ZD4KICAgICAgPHRkPjYuNDwvdGQ+CiAgICAgIDx0ZD4xLjg4MjM1MzwvdGQ+CiAgICA8L3RyPgogICAgPHRyPgogICAgICA8dGg+MjAyMy0wMi0wMTwvdGg+CiAgICAgIDx0ZD4zLjY8L3RkPgogICAgICA8dGQ+Ni4wPC90ZD4KICAgICAgPHRkPjEuNjY2NjY3PC90ZD4KICAgIDwvdHI+CiAgICA8dHI+CiAgICAgIDx0aD4yMDIzLTAzLTAxPC90aD4KICAgICAgPHRkPjMuNTwvdGQ+CiAgICAgIDx0ZD5OYU48L3RkPgogICAgICA8dGQ+TmFOPC90ZD4KICAgIDwvdHI+CiAgPC90Ym9keT4KPC90YWJsZT4=&quot;, &quot;hash&quot;: &quot;5b1e0114f6&quot;, &quot;size&quot;: 868, &quot;mime&quot;: &quot;application/vnd.datapane.table+html&quot;}}} }};\n",
       "  }\n",
       "&lt;/script&gt;\n",
       "&lt;script type=&quot;module&quot;&gt;\n",
       "  import { mountReport } from &quot;https://datapane-cdn.com/v0.16.2/report/index.es.js&quot;;\n",
       "  mountReport(window.reportProps);\n",
       "&lt;/script&gt;\n",
       "  &lt;/head&gt;\n",
       "  &lt;script&gt;\n",
       "    window.isIPythonEmbed = true;\n",
       "  &lt;/script&gt;\n",
       "  &lt;body&gt;\n",
       "    &lt;main class=&quot;max-w-screen-xl w-full mx-auto&quot;&gt;\n",
       "      &lt;div id=&quot;report&quot; class=&quot;w-full&quot;&gt;&lt;/div&gt;\n",
       "    &lt;/main&gt;\n",
       "    &lt;script src=&quot;https://datapane-cdn.com/v0.16.2/assets/iframeResizer.contentWindow.min.js&quot;&gt;&lt;/script&gt;\n",
       "  &lt;/body&gt;\n",
       "&lt;/html&gt;\n",
       "\" style=\"border: none\">\n",
       "</iframe>\n",
       "<script type=\"module\">\n",
       "  import { iframeResize } from \"https://datapane-cdn.com/v0.16.2/report/index.es.js\";\n",
       "  iframeResize({ log: true, checkOrigin: false }, \"#dp-b86a20cdc3434edfb8bf121a4a71bc20\");\n",
       "</script>\n"
      ],
      "text/plain": [
       "<IPython.core.display.HTML object>"
      ]
     },
     "metadata": {},
     "output_type": "display_data"
    }
   ],
   "source": [
    "view"
   ]
  },
  {
   "cell_type": "code",
   "execution_count": 10,
   "metadata": {
    "execution": {
     "iopub.execute_input": "2023-04-18T04:08:26.394952Z",
     "iopub.status.busy": "2023-04-18T04:08:26.394852Z",
     "iopub.status.idle": "2023-04-18T04:08:26.887234Z",
     "shell.execute_reply": "2023-04-18T04:08:26.886696Z"
    }
   },
   "outputs": [
    {
     "data": {
      "text/markdown": [
       "Uploading report and associated data - *please wait...*"
      ],
      "text/plain": [
       "<IPython.core.display.Markdown object>"
      ]
     },
     "metadata": {},
     "output_type": "display_data"
    },
    {
     "data": {
      "text/markdown": [
       "Report successfully uploaded - view and share at <a href='https://cloud.datapane.com/reports/OkpKyP7/beveridge-curve/' target='_blank'>here</a>."
      ],
      "text/plain": [
       "<IPython.core.display.Markdown object>"
      ]
     },
     "metadata": {},
     "output_type": "display_data"
    },
    {
     "data": {
      "text/plain": [
       "Uploaded CloudReport - view at https://cloud.datapane.com/reports/OkpKyP7/beveridge-curve/"
      ]
     },
     "execution_count": 10,
     "metadata": {},
     "output_type": "execute_result"
    }
   ],
   "source": [
    "dp.upload_report(view, name=\"Beveridge Curve\")"
   ]
  }
 ],
 "metadata": {
  "kernelspec": {
   "display_name": "datapane",
   "language": "python",
   "name": "python3"
  },
  "language_info": {
   "codemirror_mode": {
    "name": "ipython",
    "version": 3
   },
   "file_extension": ".py",
   "mimetype": "text/x-python",
   "name": "python",
   "nbconvert_exporter": "python",
   "pygments_lexer": "ipython3",
   "version": "3.10.10"
  }
 },
 "nbformat": 4,
 "nbformat_minor": 2
}
